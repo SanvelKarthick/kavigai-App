{
 "cells": [
  {
   "cell_type": "code",
   "execution_count": 1,
   "metadata": {},
   "outputs": [],
   "source": [
    "import pandas as pd\n",
    "from sklearn.metrics.pairwise import cosine_similarity\n",
    "from sklearn.feature_extraction.text import TfidfVectorizer\n",
    "import mlflow\n",
    "from mlflow import pyfunc\n",
    "import nltk\n",
    "from nltk import word_tokenize\n",
    "from nltk.stem import WordNetLemmatizer\n",
    "from nltk.corpus import stopwords\n",
    "import string\n",
    "import seaborn as sns\n",
    "import matplotlib.pyplot as plt\n",
    "from sklearn.decomposition import PCA"
   ]
  },
  {
   "cell_type": "markdown",
   "metadata": {},
   "source": [
    "Importing the dataset"
   ]
  },
  {
   "cell_type": "code",
   "execution_count": 2,
   "metadata": {},
   "outputs": [],
   "source": [
    "# Read the CSV file\n",
    "df = pd.read_csv(\"/Users/karthikeyans/kdemo/lib/Recommendation/eventsData4Processed.csv\", parse_dates=['date'])"
   ]
  },
  {
   "cell_type": "code",
   "execution_count": 3,
   "metadata": {},
   "outputs": [
    {
     "data": {
      "text/html": [
       "<div>\n",
       "<style scoped>\n",
       "    .dataframe tbody tr th:only-of-type {\n",
       "        vertical-align: middle;\n",
       "    }\n",
       "\n",
       "    .dataframe tbody tr th {\n",
       "        vertical-align: top;\n",
       "    }\n",
       "\n",
       "    .dataframe thead th {\n",
       "        text-align: right;\n",
       "    }\n",
       "</style>\n",
       "<table border=\"1\" class=\"dataframe\">\n",
       "  <thead>\n",
       "    <tr style=\"text-align: right;\">\n",
       "      <th></th>\n",
       "      <th>event_id</th>\n",
       "      <th>domain</th>\n",
       "      <th>title</th>\n",
       "      <th>date</th>\n",
       "      <th>time</th>\n",
       "      <th>location</th>\n",
       "      <th>speaker</th>\n",
       "      <th>event_mode</th>\n",
       "      <th>description</th>\n",
       "    </tr>\n",
       "  </thead>\n",
       "  <tbody>\n",
       "    <tr>\n",
       "      <th>0</th>\n",
       "      <td>0</td>\n",
       "      <td>Cloud Computing</td>\n",
       "      <td>AWS Cloud Computing Event</td>\n",
       "      <td>2024-09-14</td>\n",
       "      <td>10:00</td>\n",
       "      <td>Rourkela</td>\n",
       "      <td>Michael Johnson</td>\n",
       "      <td>Meetup</td>\n",
       "      <td>Learn cloud computing fundamentals with AWS</td>\n",
       "    </tr>\n",
       "    <tr>\n",
       "      <th>1</th>\n",
       "      <td>1</td>\n",
       "      <td>Education</td>\n",
       "      <td>Education Administrator Education Event</td>\n",
       "      <td>2023-06-12</td>\n",
       "      <td>10:00</td>\n",
       "      <td>Villupuram</td>\n",
       "      <td>Daniel Johnson</td>\n",
       "      <td>Webinar</td>\n",
       "      <td>Create engaging learning experiences with Educ...</td>\n",
       "    </tr>\n",
       "  </tbody>\n",
       "</table>\n",
       "</div>"
      ],
      "text/plain": [
       "   event_id           domain                                    title  \\\n",
       "0         0  Cloud Computing                AWS Cloud Computing Event   \n",
       "1         1        Education  Education Administrator Education Event   \n",
       "\n",
       "        date   time    location          speaker event_mode  \\\n",
       "0 2024-09-14  10:00    Rourkela  Michael Johnson     Meetup   \n",
       "1 2023-06-12  10:00  Villupuram   Daniel Johnson    Webinar   \n",
       "\n",
       "                                         description  \n",
       "0        Learn cloud computing fundamentals with AWS  \n",
       "1  Create engaging learning experiences with Educ...  "
      ]
     },
     "execution_count": 3,
     "metadata": {},
     "output_type": "execute_result"
    }
   ],
   "source": [
    "df.head(2)"
   ]
  },
  {
   "cell_type": "code",
   "execution_count": 4,
   "metadata": {},
   "outputs": [
    {
     "name": "stdout",
     "output_type": "stream",
     "text": [
      "<class 'pandas.core.frame.DataFrame'>\n",
      "RangeIndex: 423 entries, 0 to 422\n",
      "Data columns (total 9 columns):\n",
      " #   Column       Non-Null Count  Dtype         \n",
      "---  ------       --------------  -----         \n",
      " 0   event_id     423 non-null    int64         \n",
      " 1   domain       423 non-null    object        \n",
      " 2   title        423 non-null    object        \n",
      " 3   date         423 non-null    datetime64[ns]\n",
      " 4   time         423 non-null    object        \n",
      " 5   location     423 non-null    object        \n",
      " 6   speaker      423 non-null    object        \n",
      " 7   event_mode   423 non-null    object        \n",
      " 8   description  423 non-null    object        \n",
      "dtypes: datetime64[ns](1), int64(1), object(7)\n",
      "memory usage: 29.9+ KB\n"
     ]
    }
   ],
   "source": [
    "df.info()"
   ]
  },
  {
   "cell_type": "code",
   "execution_count": 5,
   "metadata": {},
   "outputs": [],
   "source": [
    "description = df[\"description\"]"
   ]
  },
  {
   "cell_type": "code",
   "execution_count": 6,
   "metadata": {},
   "outputs": [],
   "source": [
    "df['features'] = df['description'] + ' ' + df['domain'] + ' ' + df['title']\n",
    "\n"
   ]
  },
  {
   "cell_type": "markdown",
   "metadata": {},
   "source": [
    "Text proccessing"
   ]
  },
  {
   "cell_type": "code",
   "execution_count": 7,
   "metadata": {},
   "outputs": [],
   "source": [
    "# Remove punctuation\n",
    "def remove_punctuation(text):\n",
    "    punctuation_list = string.punctuation + \"-\"\n",
    "    return text.translate(str.maketrans(' ',' ',punctuation_list))"
   ]
  },
  {
   "cell_type": "code",
   "execution_count": 8,
   "metadata": {},
   "outputs": [],
   "source": [
    "df[\"processed_feature\"] = df['features'].apply(lambda x: remove_punctuation(x))\n",
    "df_lookup = df.copy()"
   ]
  },
  {
   "cell_type": "code",
   "execution_count": 9,
   "metadata": {},
   "outputs": [],
   "source": [
    "class LemmaTokenizer (object):\n",
    "    def __init__(self):\n",
    "        self.wnl = WordNetLemmatizer()\n",
    "    def __call__(self, articles):\n",
    "        return [self.wnl.lemmatize(t) for t in word_tokenize(articles)]"
   ]
  },
  {
   "cell_type": "code",
   "execution_count": 10,
   "metadata": {},
   "outputs": [
    {
     "name": "stderr",
     "output_type": "stream",
     "text": [
      "/Users/karthikeyans/anaconda3/lib/python3.10/site-packages/sklearn/feature_extraction/text.py:525: UserWarning: The parameter 'token_pattern' will not be used since 'tokenizer' is not None'\n",
      "  warnings.warn(\n",
      "/Users/karthikeyans/anaconda3/lib/python3.10/site-packages/sklearn/feature_extraction/text.py:408: UserWarning: Your stop_words may be inconsistent with your preprocessing. Tokenizing the stop words generated tokens ['ha', 'le', 'u', 'wa'] not in stop_words.\n",
      "  warnings.warn(\n"
     ]
    }
   ],
   "source": [
    "# Create vectorizer of ngrams using \n",
    "tfv = TfidfVectorizer( ngram_range=(1,1), analyzer='word', stop_words='english',tokenizer=LemmaTokenizer())\n",
    "\n",
    "# Fit vectorizer on processed description\n",
    "sparse_vector_matrix = tfv.fit_transform(df[\"processed_feature\"] )"
   ]
  },
  {
   "cell_type": "code",
   "execution_count": 11,
   "metadata": {},
   "outputs": [],
   "source": [
    "#pca = PCA(n_components=2)"
   ]
  },
  {
   "cell_type": "code",
   "execution_count": 12,
   "metadata": {},
   "outputs": [
    {
     "data": {
      "text/plain": [
       "\"def visualization(inputted_vector):\\n    dense_matrix = sparse_vector_matrix.toarray()\\n\\n    # Use PCA to reduce dimensionality for visualization\\n    \\n    reduced_data = pca.fit_transform(dense_matrix)\\n\\n    # Create a scatter plot\\n    plt.figure(figsize=(10, 7))\\n    plt.scatter(reduced_data[:, 0], reduced_data[:, 1])\\n\\n    # Optionally, plot the input vector in a different color\\n    # Assuming `inputted_vector` is the vector for the input event\\n    inputted_vector_reduced = pca.transform(inputted_vector)\\n    plt.scatter(inputted_vector_reduced[0, 0], inputted_vector_reduced[0, 1], c='red')\\n\\n    plt.title('Scatter Plot of Data Points in Vector Space')\\n    plt.xlabel('First Principal Component')\\n    plt.ylabel('Second Principal Component')\\n    plt.show()\""
      ]
     },
     "execution_count": 12,
     "metadata": {},
     "output_type": "execute_result"
    }
   ],
   "source": [
    "\n",
    "'''def visualization(inputted_vector):\n",
    "    dense_matrix = sparse_vector_matrix.toarray()\n",
    "\n",
    "    # Use PCA to reduce dimensionality for visualization\n",
    "    \n",
    "    reduced_data = pca.fit_transform(dense_matrix)\n",
    "\n",
    "    # Create a scatter plot\n",
    "    plt.figure(figsize=(10, 7))\n",
    "    plt.scatter(reduced_data[:, 0], reduced_data[:, 1])\n",
    "\n",
    "    # Optionally, plot the input vector in a different color\n",
    "    # Assuming `inputted_vector` is the vector for the input event\n",
    "    inputted_vector_reduced = pca.transform(inputted_vector)\n",
    "    plt.scatter(inputted_vector_reduced[0, 0], inputted_vector_reduced[0, 1], c='red')\n",
    "\n",
    "    plt.title('Scatter Plot of Data Points in Vector Space')\n",
    "    plt.xlabel('First Principal Component')\n",
    "    plt.ylabel('Second Principal Component')\n",
    "    plt.show()'''"
   ]
  },
  {
   "cell_type": "code",
   "execution_count": 13,
   "metadata": {},
   "outputs": [
    {
     "data": {
      "text/html": [
       "<style>#sk-container-id-1 {color: black;}#sk-container-id-1 pre{padding: 0;}#sk-container-id-1 div.sk-toggleable {background-color: white;}#sk-container-id-1 label.sk-toggleable__label {cursor: pointer;display: block;width: 100%;margin-bottom: 0;padding: 0.3em;box-sizing: border-box;text-align: center;}#sk-container-id-1 label.sk-toggleable__label-arrow:before {content: \"▸\";float: left;margin-right: 0.25em;color: #696969;}#sk-container-id-1 label.sk-toggleable__label-arrow:hover:before {color: black;}#sk-container-id-1 div.sk-estimator:hover label.sk-toggleable__label-arrow:before {color: black;}#sk-container-id-1 div.sk-toggleable__content {max-height: 0;max-width: 0;overflow: hidden;text-align: left;background-color: #f0f8ff;}#sk-container-id-1 div.sk-toggleable__content pre {margin: 0.2em;color: black;border-radius: 0.25em;background-color: #f0f8ff;}#sk-container-id-1 input.sk-toggleable__control:checked~div.sk-toggleable__content {max-height: 200px;max-width: 100%;overflow: auto;}#sk-container-id-1 input.sk-toggleable__control:checked~label.sk-toggleable__label-arrow:before {content: \"▾\";}#sk-container-id-1 div.sk-estimator input.sk-toggleable__control:checked~label.sk-toggleable__label {background-color: #d4ebff;}#sk-container-id-1 div.sk-label input.sk-toggleable__control:checked~label.sk-toggleable__label {background-color: #d4ebff;}#sk-container-id-1 input.sk-hidden--visually {border: 0;clip: rect(1px 1px 1px 1px);clip: rect(1px, 1px, 1px, 1px);height: 1px;margin: -1px;overflow: hidden;padding: 0;position: absolute;width: 1px;}#sk-container-id-1 div.sk-estimator {font-family: monospace;background-color: #f0f8ff;border: 1px dotted black;border-radius: 0.25em;box-sizing: border-box;margin-bottom: 0.5em;}#sk-container-id-1 div.sk-estimator:hover {background-color: #d4ebff;}#sk-container-id-1 div.sk-parallel-item::after {content: \"\";width: 100%;border-bottom: 1px solid gray;flex-grow: 1;}#sk-container-id-1 div.sk-label:hover label.sk-toggleable__label {background-color: #d4ebff;}#sk-container-id-1 div.sk-serial::before {content: \"\";position: absolute;border-left: 1px solid gray;box-sizing: border-box;top: 0;bottom: 0;left: 50%;z-index: 0;}#sk-container-id-1 div.sk-serial {display: flex;flex-direction: column;align-items: center;background-color: white;padding-right: 0.2em;padding-left: 0.2em;position: relative;}#sk-container-id-1 div.sk-item {position: relative;z-index: 1;}#sk-container-id-1 div.sk-parallel {display: flex;align-items: stretch;justify-content: center;background-color: white;position: relative;}#sk-container-id-1 div.sk-item::before, #sk-container-id-1 div.sk-parallel-item::before {content: \"\";position: absolute;border-left: 1px solid gray;box-sizing: border-box;top: 0;bottom: 0;left: 50%;z-index: -1;}#sk-container-id-1 div.sk-parallel-item {display: flex;flex-direction: column;z-index: 1;position: relative;background-color: white;}#sk-container-id-1 div.sk-parallel-item:first-child::after {align-self: flex-end;width: 50%;}#sk-container-id-1 div.sk-parallel-item:last-child::after {align-self: flex-start;width: 50%;}#sk-container-id-1 div.sk-parallel-item:only-child::after {width: 0;}#sk-container-id-1 div.sk-dashed-wrapped {border: 1px dashed gray;margin: 0 0.4em 0.5em 0.4em;box-sizing: border-box;padding-bottom: 0.4em;background-color: white;}#sk-container-id-1 div.sk-label label {font-family: monospace;font-weight: bold;display: inline-block;line-height: 1.2em;}#sk-container-id-1 div.sk-label-container {text-align: center;}#sk-container-id-1 div.sk-container {/* jupyter's `normalize.less` sets `[hidden] { display: none; }` but bootstrap.min.css set `[hidden] { display: none !important; }` so we also need the `!important` here to be able to override the default hidden behavior on the sphinx rendered scikit-learn.org. See: https://github.com/scikit-learn/scikit-learn/issues/21755 */display: inline-block !important;position: relative;}#sk-container-id-1 div.sk-text-repr-fallback {display: none;}</style><div id=\"sk-container-id-1\" class=\"sk-top-container\"><div class=\"sk-text-repr-fallback\"><pre>NearestNeighbors(algorithm=&#x27;brute&#x27;, metric=&#x27;cosine&#x27;, n_neighbors=10)</pre><b>In a Jupyter environment, please rerun this cell to show the HTML representation or trust the notebook. <br />On GitHub, the HTML representation is unable to render, please try loading this page with nbviewer.org.</b></div><div class=\"sk-container\" hidden><div class=\"sk-item\"><div class=\"sk-estimator sk-toggleable\"><input class=\"sk-toggleable__control sk-hidden--visually\" id=\"sk-estimator-id-1\" type=\"checkbox\" checked><label for=\"sk-estimator-id-1\" class=\"sk-toggleable__label sk-toggleable__label-arrow\">NearestNeighbors</label><div class=\"sk-toggleable__content\"><pre>NearestNeighbors(algorithm=&#x27;brute&#x27;, metric=&#x27;cosine&#x27;, n_neighbors=10)</pre></div></div></div></div></div>"
      ],
      "text/plain": [
       "NearestNeighbors(algorithm='brute', metric='cosine', n_neighbors=10)"
      ]
     },
     "execution_count": 13,
     "metadata": {},
     "output_type": "execute_result"
    }
   ],
   "source": [
    "from sklearn.neighbors import NearestNeighbors\n",
    "# Build KNN model\n",
    "knn_model = NearestNeighbors(n_neighbors=10, algorithm='brute', metric='cosine')  \n",
    "knn_model.fit(sparse_vector_matrix) "
   ]
  },
  {
   "cell_type": "markdown",
   "metadata": {},
   "source": [
    "Build prediction function"
   ]
  },
  {
   "cell_type": "code",
   "execution_count": 14,
   "metadata": {},
   "outputs": [],
   "source": [
    "def recommendation(model_input, tfv=tfv,df_lookup=df_lookup):\n",
    "    # Convert the input dates to datetime objects for comparison\n",
    "    begin_date = pd.to_datetime(model_input['beginDate'])\n",
    "    end_date = pd.to_datetime(model_input['endDate'])\n",
    "\n",
    "    \n",
    "    # Process the events as before\n",
    "    input_df = pd.DataFrame([model_input], columns=['description', 'goalName','beginDate','endDate'])\n",
    "    input_df['description'] = input_df['description'].astype(str)\n",
    "    input_df['goalName'] = input_df['goalName'].astype(str)\n",
    "    \n",
    "    input_df['description'] = input_df['description'].apply(lambda x: ' '.join(x.split()))\n",
    "    input_df['goalname'] = input_df['goalName'].apply(lambda x: ' '.join(x.split()))\n",
    "    input_df['bag_of_words'] = input_df['description'] + ' ' + input_df['goalname']\n",
    "    \n",
    "    inputted_vector = tfv.transform(input_df['bag_of_words'])\n",
    "    \n",
    "    # Find k-nearest neighbors\n",
    "    distances, indices = knn_model.kneighbors(inputted_vector)\n",
    "\n",
    "    # Filter events that fall between beginDate and endDate\n",
    "    filtered_indices_between = []\n",
    "    for idx in indices[0]:\n",
    "        event_date = pd.to_datetime(df_lookup.iloc[idx]['date'])\n",
    "        if begin_date <= event_date <= end_date:\n",
    "            filtered_indices_between.append(idx)\n",
    "            if len(filtered_indices_between) >= 10:  # Limit to 10 recommendations\n",
    "                break\n",
    "\n",
    "    # Get the recommended events falling between beginDate and endDate\n",
    "    recommended_events_between = df_lookup.iloc[filtered_indices_between][['title', 'date', 'time']]\n",
    "\n",
    "    filtered_indices_after = []\n",
    "    for idx in indices[0]:\n",
    "        event_date = pd.to_datetime(df_lookup.iloc[idx]['date'])\n",
    "        if event_date > end_date:\n",
    "            filtered_indices_after.append(idx)\n",
    "            if len(filtered_indices_after) >= 10:  # Limit to 10 recommendations\n",
    "                break\n",
    "    # Optionally, plot the input vector in a different color\n",
    "    # Assuming `inputted_vector` is the vector for the input event\n",
    "    #inputted_vector_reduced = pca.transform(inputted_vector)\n",
    "\n",
    "    #visualization(inputted_vector_reduced)\n",
    "\n",
    "    # Get the recommended events falling after endDate\n",
    "    recommended_events_after = df_lookup.iloc[filtered_indices_after][['title', 'date', 'time']]\n",
    "    \n",
    "    return recommended_events_between,recommended_events_after"
   ]
  },
  {
   "cell_type": "markdown",
   "metadata": {},
   "source": [
    "Defining custom model for Event Recommendation"
   ]
  },
  {
   "cell_type": "code",
   "execution_count": 15,
   "metadata": {},
   "outputs": [],
   "source": [
    "class eventRecommendationKNN(pyfunc.PythonModel):\n",
    "    ## defining objects needed for prediction\n",
    "    def __init__(self,\n",
    "                tfv,\n",
    "                sparse_vector_matrix,\n",
    "                df_lookup,\n",
    "                recommendation):\n",
    "        \n",
    "        ## setting up all needed objects\n",
    "        self.tfv = tfv\n",
    "        self.sparse_vector_matrix = sparse_vector_matrix\n",
    "        self.df_lookup = df_lookup\n",
    "        self.recommendation = recommendation\n",
    "        \n",
    "    ## define function with processing and feeding data into prediction at the end\n",
    "    def predict(self,context,model_input):\n",
    "        recommended_events_between_dates,recommended_events_after_end_date = self.recommendation(model_input)\n",
    "        #print(recommended_events_between_dates)\n",
    "        #print(recommended_events_after_end_date)\n",
    "        predictions = {\n",
    "            'recommended_events_between_dates': recommended_events_between_dates.to_dict('records'),\n",
    "            'recommended_events_after_end_date': recommended_events_after_end_date.to_dict('records')\n",
    "        }\n",
    "\n",
    "        return predictions"
   ]
  },
  {
   "cell_type": "markdown",
   "metadata": {},
   "source": [
    "Testing the prediction class"
   ]
  },
  {
   "cell_type": "code",
   "execution_count": 16,
   "metadata": {},
   "outputs": [
    {
     "name": "stdout",
     "output_type": "stream",
     "text": [
      "{'recommended_events_between_dates': [{'title': 'Risk Analyst Data Analysis Event', 'date': Timestamp('2024-12-11 00:00:00'), 'time': '13:00'}, {'title': 'Customer Insights Analyst Data Analysis Event', 'date': Timestamp('2024-11-29 00:00:00'), 'time': '18:00'}, {'title': 'Market Research Analyst Data Analysis Event', 'date': Timestamp('2024-11-30 00:00:00'), 'time': '18:00'}], 'recommended_events_after_end_date': []}\n"
     ]
    }
   ],
   "source": [
    "m = eventRecommendationKNN(tfv = tfv,\n",
    "                        sparse_vector_matrix=sparse_vector_matrix,\n",
    "                        df_lookup=df_lookup,\n",
    "                        recommendation=recommendation)\n",
    "\n",
    "model_input = {\n",
    "    \"goalName\" : \"data analyst\",\n",
    "    \"description\" : \"data analyst\",\n",
    "    \"beginDate\" : \"2024-10-12\",\n",
    "    \"endDate\" : \"2024-12-13\"\n",
    "}\n",
    "output_df = m.predict(None,model_input)\n",
    "print(output_df)"
   ]
  },
  {
   "cell_type": "code",
   "execution_count": 17,
   "metadata": {},
   "outputs": [],
   "source": [
    "mlflow_conda_env ={\n",
    "    'name': 'mlflow-env',\n",
    "    'channels': ['defaults',\n",
    "                 'conda-forge'],\n",
    "    'dependencies': ['python = 3.6.2',\n",
    "                     'nltk = 3.8.1',\n",
    "                     'nltk_data',\n",
    "                    {'pip': ['mlflow==2.10.2',\n",
    "                    'scikit-learn',\n",
    "                    'cloudpickle=1.2.2']}\n",
    "                        ]\n",
    "}"
   ]
  },
  {
   "cell_type": "code",
   "execution_count": 18,
   "metadata": {},
   "outputs": [
    {
     "name": "stderr",
     "output_type": "stream",
     "text": [
      "/Users/karthikeyans/anaconda3/lib/python3.10/site-packages/_distutils_hack/__init__.py:33: UserWarning: Setuptools is replacing distutils.\n",
      "  warnings.warn(\"Setuptools is replacing distutils.\")\n"
     ]
    }
   ],
   "source": [
    "with mlflow .start_run(run_name=\"Content-Based event recommendation using KNN\") as run:\n",
    "    mlflow.log_param(\"num_events_returned\", 10)\n",
    "    # Log parameters\n",
    "    mlflow.log_param(\"ngram_range\", (1,1))\n",
    "    mlflow.log_param(\"analyzer\", 'word')\n",
    "    mlflow.log_param(\"stop_words\", 'english')\n",
    "   \n",
    "    pyfunc.log_model(\n",
    "        artifact_path = \"KNN_event_recommendation_pyfunc\",\n",
    "        python_model = eventRecommendationKNN(tfv = tfv,\n",
    "                        sparse_vector_matrix=sparse_vector_matrix,\n",
    "                        df_lookup=df_lookup,\n",
    "                        recommendation=recommendation),\n",
    "        \n",
    "        conda_env = mlflow_conda_env\n",
    "    )\n",
    "    \n",
    "    run_id = run.info.run_uuid\n",
    "    experiment_id = run.info.experiment_id\n",
    "    \n",
    "    \n",
    "    mlflow.end_run()  "
   ]
  }
 ],
 "metadata": {
  "kernelspec": {
   "display_name": "Python 3",
   "language": "python",
   "name": "python3"
  },
  "language_info": {
   "codemirror_mode": {
    "name": "ipython",
    "version": 3
   },
   "file_extension": ".py",
   "mimetype": "text/x-python",
   "name": "python",
   "nbconvert_exporter": "python",
   "pygments_lexer": "ipython3",
   "version": "3.10.9"
  }
 },
 "nbformat": 4,
 "nbformat_minor": 2
}
